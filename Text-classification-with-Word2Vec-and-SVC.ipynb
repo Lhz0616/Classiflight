{
 "cells": [
  {
   "cell_type": "markdown",
   "metadata": {
    "id": "hdh7YnhUwLEH"
   },
   "source": [
    "# Text classification using `Word2Vec` and `sklearn.svm.SVC`\n",
    "\n",
    "Source: \n",
    "* [Word Embedding (medium)](https://medium.com/intelligentmachines/word-embedding-and-one-hot-encoding-ad17b4bbe111)\n",
    "* [reference code](https://colab.research.google.com/github/PradipNichite/Youtube-Tutorials/blob/main/Yotutube_WordVectors.ipynb#scrollTo=mpkwvwH5g66R)\n",
    "* https://radimrehurek.com/gensim/auto_examples/tutorials/run_word2vec.html\n",
    "* https://radimrehurek.com/gensim/models/word2vec.html\n",
    "* https://analyticsindiamag.com/word2vec-vs-glove-a-comparative-guide-to-word-embedding-techniques/"
   ]
  },
  {
   "cell_type": "code",
   "execution_count": 1,
   "metadata": {
    "colab": {
     "base_uri": "https://localhost:8080/"
    },
    "id": "dnCB6fIfih0e",
    "executionInfo": {
     "status": "ok",
     "timestamp": 1685466614107,
     "user_tz": -480,
     "elapsed": 61867,
     "user": {
      "displayName": "Lim Hong Zhi",
      "userId": "11640420770762384560"
     }
    },
    "outputId": "fe0f7d6a-6e49-47a9-aafc-9ef861c653a7",
    "ExecuteTime": {
     "end_time": "2023-06-04T07:51:46.700403500Z",
     "start_time": "2023-06-04T07:51:24.696949800Z"
    }
   },
   "outputs": [
    {
     "name": "stdout",
     "output_type": "stream",
     "text": [
      "\u001B[38;5;2m✔ Download and installation successful\u001B[0m\n",
      "You can now load the package via spacy.load('en_core_web_sm')\n"
     ]
    },
    {
     "name": "stderr",
     "output_type": "stream",
     "text": [
      "[nltk_data] Downloading package stopwords to\n",
      "[nltk_data]     C:\\Users\\user\\AppData\\Roaming\\nltk_data...\n",
      "[nltk_data]   Package stopwords is already up-to-date!\n"
     ]
    }
   ],
   "source": [
    "try:\n",
    "    from google.colab import drive\n",
    "    drive.mount('/content/gdrive/')\n",
    "\n",
    "    PROJECT_PATH = \"/content/gdrive/MyDrive/WID3002 Natural Language Processing\"\n",
    "\n",
    "    import sys\n",
    "    sys.path.append(f\"{PROJECT_PATH}\")\n",
    "    \n",
    "    !pip install --upgrade gensim -q\n",
    "    !pip install wordcloud\n",
    "except:\n",
    "    PROJECT_PATH = \".\"\n",
    "\n",
    "\n",
    "data_path = f\"{PROJECT_PATH}/data/atis_intents_train.csv\"\n",
    "test_file = f\"{PROJECT_PATH}/data/atis_intents_test.csv\"\n",
    "dump_path = f\"{PROJECT_PATH}/models/svm_model.sav\"\n",
    "load_dump_path = f\"{PROJECT_PATH}/models/svm_model.sav\"\n",
    "    \n",
    "    \n",
    "import gensim\n",
    "import pickle\n",
    "import matplotlib.pyplot as plt\n",
    "from wordcloud import WordCloud\n",
    "from tqdm import *\n",
    "\n",
    "from sklearn.preprocessing import LabelEncoder\n",
    "from sklearn.model_selection import train_test_split\n",
    "from sklearn.svm import SVC\n",
    "\n",
    "from utils import *\n",
    "\n",
    "import joblib\n",
    "\n",
    "import nltk\n",
    "nltk.download('stopwords')\n",
    "from nltk.corpus import stopwords\n",
    "stop_words = stopwords.words('english')"
   ]
  },
  {
   "cell_type": "code",
   "execution_count": 2,
   "metadata": {
    "id": "d1uH9iAKbmEs",
    "executionInfo": {
     "status": "ok",
     "timestamp": 1685466623223,
     "user_tz": -480,
     "elapsed": 3,
     "user": {
      "displayName": "Lim Hong Zhi",
      "userId": "11640420770762384560"
     }
    },
    "ExecuteTime": {
     "end_time": "2023-06-04T07:51:46.803938500Z",
     "start_time": "2023-06-04T07:51:46.712406500Z"
    }
   },
   "outputs": [],
   "source": [
    "np.random.seed(42)"
   ]
  },
  {
   "cell_type": "code",
   "execution_count": 3,
   "metadata": {
    "colab": {
     "base_uri": "https://localhost:8080/"
    },
    "executionInfo": {
     "elapsed": 2,
     "status": "ok",
     "timestamp": 1685466626315,
     "user": {
      "displayName": "Lim Hong Zhi",
      "userId": "11640420770762384560"
     },
     "user_tz": -480
    },
    "id": "Y_YUe5PKbw3M",
    "outputId": "369dbe21-e53a-4539-8538-4c5cf1784962",
    "ExecuteTime": {
     "end_time": "2023-06-04T07:51:47.172233700Z",
     "start_time": "2023-06-04T07:51:46.737406200Z"
    }
   },
   "outputs": [
    {
     "name": "stdout",
     "output_type": "stream",
     "text": [
      "fasttext-wiki-news-subwords-300\n",
      "conceptnet-numberbatch-17-06-300\n",
      "word2vec-ruscorpora-300\n",
      "word2vec-google-news-300\n",
      "glove-wiki-gigaword-50\n",
      "glove-wiki-gigaword-100\n",
      "glove-wiki-gigaword-200\n",
      "glove-wiki-gigaword-300\n",
      "glove-twitter-25\n",
      "glove-twitter-50\n",
      "glove-twitter-100\n",
      "glove-twitter-200\n",
      "__testing_word2vec-matrix-synopsis\n"
     ]
    }
   ],
   "source": [
    "import gensim.downloader as api\n",
    "[print(x) for x in list(gensim.downloader.info()['models'].keys())];"
   ]
  },
  {
   "cell_type": "markdown",
   "metadata": {
    "id": "4jR6H2Yiu-0n"
   },
   "source": [
    "## Loading train set and data cleaning"
   ]
  },
  {
   "cell_type": "code",
   "execution_count": 4,
   "metadata": {
    "id": "6jy7dyAwiXyq",
    "executionInfo": {
     "status": "ok",
     "timestamp": 1685466631588,
     "user_tz": -480,
     "elapsed": 1927,
     "user": {
      "displayName": "Lim Hong Zhi",
      "userId": "11640420770762384560"
     }
    },
    "ExecuteTime": {
     "end_time": "2023-06-04T07:51:47.247262500Z",
     "start_time": "2023-06-04T07:51:47.176237300Z"
    }
   },
   "outputs": [],
   "source": [
    "df = load_data(data_path)"
   ]
  },
  {
   "cell_type": "code",
   "execution_count": 5,
   "metadata": {
    "id": "qXH9j8i3kx_7",
    "executionInfo": {
     "status": "ok",
     "timestamp": 1685466631588,
     "user_tz": -480,
     "elapsed": 4,
     "user": {
      "displayName": "Lim Hong Zhi",
      "userId": "11640420770762384560"
     }
    },
    "ExecuteTime": {
     "end_time": "2023-06-04T07:51:47.258248600Z",
     "start_time": "2023-06-04T07:51:47.210232100Z"
    }
   },
   "outputs": [],
   "source": [
    "label_encoder = LabelEncoder()\n",
    "df['category_encoded'] = label_encoder.fit_transform(df['category'])\n",
    "pkl_file = open('models/classes.pkl', 'wb')\n",
    "pickle.dump(label_encoder, pkl_file)\n",
    "pkl_file.close()"
   ]
  },
  {
   "cell_type": "code",
   "execution_count": 6,
   "metadata": {
    "colab": {
     "base_uri": "https://localhost:8080/",
     "height": 853
    },
    "executionInfo": {
     "elapsed": 2173,
     "status": "ok",
     "timestamp": 1685466633758,
     "user": {
      "displayName": "Lim Hong Zhi",
      "userId": "11640420770762384560"
     },
     "user_tz": -480
    },
    "id": "mqDgoEV7kPQJ",
    "outputId": "44cb0d89-ad59-488d-dd91-aa4cbdb2288c",
    "ExecuteTime": {
     "end_time": "2023-06-04T07:51:48.625178800Z",
     "start_time": "2023-06-04T07:51:47.224230500Z"
    }
   },
   "outputs": [
    {
     "name": "stdout",
     "output_type": "stream",
     "text": [
      "!\"#$%&'()*+,-./:;<=>?@[\\]^_`{|}~\n"
     ]
    },
    {
     "data": {
      "text/plain": "<Figure size 800x800 with 1 Axes>",
      "image/png": "[encoded data removed]"
     },
     "metadata": {},
     "output_type": "display_data"
    }
   ],
   "source": [
    "word_cloud = WordCloud(width=800, height=800, background_color='black', min_font_size=10).generate(\" \".join(stop_words))\n",
    "plt.figure(figsize=(8, 8), facecolor=None)\n",
    "plt.imshow(word_cloud)\n",
    "plt.axis(\"off\")\n",
    "plt.tight_layout(pad=0)\n",
    "\n",
    "punctuations = string.punctuation\n",
    "print(punctuations)"
   ]
  },
  {
   "cell_type": "code",
   "execution_count": 7,
   "metadata": {
    "id": "3AqY9aBgikGF",
    "executionInfo": {
     "status": "ok",
     "timestamp": 1685466686853,
     "user_tz": -480,
     "elapsed": 41840,
     "user": {
      "displayName": "Lim Hong Zhi",
      "userId": "11640420770762384560"
     }
    },
    "ExecuteTime": {
     "end_time": "2023-06-04T07:52:23.360121300Z",
     "start_time": "2023-06-04T07:51:48.479634800Z"
    }
   },
   "outputs": [],
   "source": [
    "df['tokens'] = df['question'].apply(tokenise_sentence)"
   ]
  },
  {
   "cell_type": "code",
   "execution_count": 8,
   "metadata": {
    "id": "XjL4tvRqlDcs",
    "executionInfo": {
     "status": "ok",
     "timestamp": 1685466686854,
     "user_tz": -480,
     "elapsed": 9,
     "user": {
      "displayName": "Lim Hong Zhi",
      "userId": "11640420770762384560"
     }
    },
    "ExecuteTime": {
     "end_time": "2023-06-04T07:52:23.525193900Z",
     "start_time": "2023-06-04T07:52:23.366118500Z"
    }
   },
   "outputs": [],
   "source": [
    "df['vec'] = df['tokens'].apply(vectorise)"
   ]
  },
  {
   "cell_type": "code",
   "execution_count": 9,
   "metadata": {
    "id": "FIhGrG0TmB8x",
    "executionInfo": {
     "status": "ok",
     "timestamp": 1685466686855,
     "user_tz": -480,
     "elapsed": 8,
     "user": {
      "displayName": "Lim Hong Zhi",
      "userId": "11640420770762384560"
     }
    },
    "ExecuteTime": {
     "end_time": "2023-06-04T07:52:23.535196100Z",
     "start_time": "2023-06-04T07:52:23.522200500Z"
    }
   },
   "outputs": [],
   "source": [
    "# Preparing dataset\n",
    "X = df['vec'].to_list()\n",
    "y = df['category_encoded'].to_list()"
   ]
  },
  {
   "cell_type": "code",
   "execution_count": 10,
   "metadata": {
    "id": "SfoU9QLFlgxY",
    "executionInfo": {
     "status": "ok",
     "timestamp": 1685466686855,
     "user_tz": -480,
     "elapsed": 8,
     "user": {
      "displayName": "Lim Hong Zhi",
      "userId": "11640420770762384560"
     }
    },
    "ExecuteTime": {
     "end_time": "2023-06-04T07:52:23.586206700Z",
     "start_time": "2023-06-04T07:52:23.540192100Z"
    }
   },
   "outputs": [],
   "source": [
    "X_train, X_test, y_train, y_test = train_test_split(X, y, test_size=0.2, random_state=42, stratify=y)"
   ]
  },
  {
   "cell_type": "code",
   "execution_count": 11,
   "metadata": {
    "id": "ijl74tuAmK06",
    "executionInfo": {
     "status": "ok",
     "timestamp": 1685466686855,
     "user_tz": -480,
     "elapsed": 7,
     "user": {
      "displayName": "Lim Hong Zhi",
      "userId": "11640420770762384560"
     }
    },
    "ExecuteTime": {
     "end_time": "2023-06-04T07:52:23.586206700Z",
     "start_time": "2023-06-04T07:52:23.555189600Z"
    }
   },
   "outputs": [],
   "source": [
    "svm_classifier = SVC(kernel='linear', probability=True)"
   ]
  },
  {
   "cell_type": "code",
   "execution_count": 12,
   "metadata": {
    "colab": {
     "base_uri": "https://localhost:8080/"
    },
    "executionInfo": {
     "elapsed": 135389,
     "status": "ok",
     "timestamp": 1685466822237,
     "user": {
      "displayName": "Lim Hong Zhi",
      "userId": "11640420770762384560"
     },
     "user_tz": -480
    },
    "id": "_oWYcUm9oh2n",
    "outputId": "fd1c1d07-5c70-4fa3-d340-159fab382eb1",
    "ExecuteTime": {
     "end_time": "2023-06-04T07:54:27.270570900Z",
     "start_time": "2023-06-04T07:52:23.570188Z"
    }
   },
   "outputs": [
    {
     "name": "stderr",
     "output_type": "stream",
     "text": [
      "100%|██████████| 100/100 [02:03<00:00,  1.24s/it]\n"
     ]
    }
   ],
   "source": [
    "num_epochs = 100\n",
    "\n",
    "for epoch in tqdm(range(num_epochs)): \n",
    "  svm_classifier.fit(X_train, y_train)"
   ]
  },
  {
   "cell_type": "code",
   "execution_count": 13,
   "metadata": {
    "id": "KWlu9xGnmPk-",
    "executionInfo": {
     "status": "ok",
     "timestamp": 1685466822237,
     "user_tz": -480,
     "elapsed": 9,
     "user": {
      "displayName": "Lim Hong Zhi",
      "userId": "11640420770762384560"
     }
    },
    "ExecuteTime": {
     "end_time": "2023-06-04T07:54:27.321279300Z",
     "start_time": "2023-06-04T07:54:27.275118300Z"
    }
   },
   "outputs": [],
   "source": [
    "# Predict the labels for test data\n",
    "y_pred = svm_classifier.predict(X_test)"
   ]
  },
  {
   "cell_type": "code",
   "execution_count": 14,
   "metadata": {
    "colab": {
     "base_uri": "https://localhost:8080/"
    },
    "executionInfo": {
     "elapsed": 9,
     "status": "ok",
     "timestamp": 1685466822238,
     "user": {
      "displayName": "Lim Hong Zhi",
      "userId": "11640420770762384560"
     },
     "user_tz": -480
    },
    "id": "lGh-TyCTnfgt",
    "outputId": "6de2da23-2889-4842-ce08-bc6aa36df776",
    "ExecuteTime": {
     "end_time": "2023-06-04T07:54:27.407400300Z",
     "start_time": "2023-06-04T07:54:27.326277300Z"
    }
   },
   "outputs": [
    {
     "name": "stdout",
     "output_type": "stream",
     "text": [
      "SVM Accuracy: 0.9352941176470588\n",
      "SVM Precision: 0.9144378493478839\n",
      "SVM Recall: 0.9352941176470588\n"
     ]
    },
    {
     "name": "stderr",
     "output_type": "stream",
     "text": [
      "C:\\Users\\user\\miniconda3\\envs\\nlp-env\\lib\\site-packages\\sklearn\\metrics\\_classification.py:1344: UndefinedMetricWarning: Precision is ill-defined and being set to 0.0 in labels with no predicted samples. Use `zero_division` parameter to control this behavior.\n",
      "  _warn_prf(average, modifier, msg_start, len(result))\n"
     ]
    }
   ],
   "source": [
    "from sklearn.metrics import accuracy_score, precision_score, recall_score\n",
    "# # Evaluate the accuracy of the classifier\n",
    "print(\"SVM Accuracy:\", accuracy_score(y_test, y_pred))\n",
    "print(\"SVM Precision:\", precision_score(y_test, y_pred, average='weighted'))\n",
    "print(\"SVM Recall:\", recall_score(y_test, y_pred, average='weighted'))"
   ]
  },
  {
   "cell_type": "markdown",
   "metadata": {
    "id": "6NKvHmeguzX9"
   },
   "source": [
    "## Inferencing"
   ]
  },
  {
   "cell_type": "code",
   "execution_count": 15,
   "metadata": {
    "id": "Iqgdprd0pYuU",
    "executionInfo": {
     "status": "ok",
     "timestamp": 1685466822238,
     "user_tz": -480,
     "elapsed": 6,
     "user": {
      "displayName": "Lim Hong Zhi",
      "userId": "11640420770762384560"
     }
    },
    "ExecuteTime": {
     "end_time": "2023-06-04T07:54:27.442642100Z",
     "start_time": "2023-06-04T07:54:27.353622500Z"
    }
   },
   "outputs": [],
   "source": [
    "infer = \"list type of aircraft for all flights from charlotte\"\n",
    "vector = [vectorise(tokenise_sentence(infer))]"
   ]
  },
  {
   "cell_type": "code",
   "execution_count": 16,
   "metadata": {
    "colab": {
     "base_uri": "https://localhost:8080/"
    },
    "executionInfo": {
     "elapsed": 6,
     "status": "ok",
     "timestamp": 1685466822238,
     "user": {
      "displayName": "Lim Hong Zhi",
      "userId": "11640420770762384560"
     },
     "user_tz": -480
    },
    "id": "hAFVl-G7qvXJ",
    "outputId": "f64d27b3-1dea-4fd7-8e8a-e037e777bce0",
    "ExecuteTime": {
     "end_time": "2023-06-04T07:54:27.443647200Z",
     "start_time": "2023-06-04T07:54:27.385267900Z"
    }
   },
   "outputs": [
    {
     "name": "stdout",
     "output_type": "stream",
     "text": [
      "['atis_aircraft']\n"
     ]
    }
   ],
   "source": [
    "pred = svm_classifier.predict(vector)\n",
    "print(label_encoder.inverse_transform(pred))"
   ]
  },
  {
   "cell_type": "markdown",
   "metadata": {
    "id": "OHe_2cLm0PQ4"
   },
   "source": [
    "### Testing out the model with test data"
   ]
  },
  {
   "cell_type": "code",
   "execution_count": 17,
   "metadata": {
    "id": "qxOoxOVozjyb",
    "executionInfo": {
     "status": "ok",
     "timestamp": 1685466830917,
     "user_tz": -480,
     "elapsed": 8683,
     "user": {
      "displayName": "Lim Hong Zhi",
      "userId": "11640420770762384560"
     }
    },
    "ExecuteTime": {
     "end_time": "2023-06-04T07:54:33.257058300Z",
     "start_time": "2023-06-04T07:54:27.407400300Z"
    }
   },
   "outputs": [],
   "source": [
    "test_df = pd.read_csv(test_file, header=None)\n",
    "test_df.columns = ['category', 'question']\n",
    "test_df = test_df[~test_df.duplicated(subset='question', keep=False)]\n",
    "\n",
    "test_df['tokens'] = test_df['question'].apply(tokenise_sentence)\n",
    "test_df['vec'] = test_df['tokens'].apply(vectorise)"
   ]
  },
  {
   "cell_type": "code",
   "execution_count": 18,
   "metadata": {
    "id": "SdtR_ZkM0EPC",
    "executionInfo": {
     "status": "ok",
     "timestamp": 1685466830917,
     "user_tz": -480,
     "elapsed": 12,
     "user": {
      "displayName": "Lim Hong Zhi",
      "userId": "11640420770762384560"
     }
    },
    "ExecuteTime": {
     "end_time": "2023-06-04T07:54:33.274582200Z",
     "start_time": "2023-06-04T07:54:33.261029Z"
    }
   },
   "outputs": [],
   "source": [
    "X = df['vec'].to_list()\n",
    "y = df['category_encoded'].to_list()"
   ]
  },
  {
   "cell_type": "code",
   "execution_count": 19,
   "metadata": {
    "id": "eD6II6Zq0I35",
    "executionInfo": {
     "status": "ok",
     "timestamp": 1685466831951,
     "user_tz": -480,
     "elapsed": 1045,
     "user": {
      "displayName": "Lim Hong Zhi",
      "userId": "11640420770762384560"
     }
    },
    "ExecuteTime": {
     "end_time": "2023-06-04T07:54:33.474234900Z",
     "start_time": "2023-06-04T07:54:33.278148400Z"
    }
   },
   "outputs": [],
   "source": [
    "y_test_pred = svm_classifier.predict(X)"
   ]
  },
  {
   "cell_type": "code",
   "execution_count": 20,
   "metadata": {
    "colab": {
     "base_uri": "https://localhost:8080/"
    },
    "executionInfo": {
     "elapsed": 4,
     "status": "ok",
     "timestamp": 1685466831951,
     "user": {
      "displayName": "Lim Hong Zhi",
      "userId": "11640420770762384560"
     },
     "user_tz": -480
    },
    "id": "2QQEKcPv0YtP",
    "outputId": "5ba083a5-4a3a-41ae-d4f0-4ff23b81a746",
    "ExecuteTime": {
     "end_time": "2023-06-04T07:54:33.575947600Z",
     "start_time": "2023-06-04T07:54:33.478231900Z"
    }
   },
   "outputs": [
    {
     "name": "stdout",
     "output_type": "stream",
     "text": [
      "SVM Accuracy: 0.9265882352941176\n",
      "SVM Precision: 0.9044242222579016\n",
      "SVM Recall: 0.9265882352941176\n"
     ]
    },
    {
     "name": "stderr",
     "output_type": "stream",
     "text": [
      "C:\\Users\\user\\miniconda3\\envs\\nlp-env\\lib\\site-packages\\sklearn\\metrics\\_classification.py:1344: UndefinedMetricWarning: Precision is ill-defined and being set to 0.0 in labels with no predicted samples. Use `zero_division` parameter to control this behavior.\n",
      "  _warn_prf(average, modifier, msg_start, len(result))\n"
     ]
    }
   ],
   "source": [
    "from sklearn.metrics import accuracy_score, precision_score, recall_score\n",
    "# # Evaluate the accuracy of the classifier\n",
    "print(\"SVM Accuracy:\", accuracy_score(y, y_test_pred))\n",
    "print(\"SVM Precision:\", precision_score(y, y_test_pred, average='weighted'))\n",
    "print(\"SVM Recall:\", recall_score(y, y_test_pred, average='weighted'))"
   ]
  },
  {
   "cell_type": "markdown",
   "metadata": {
    "id": "z4fDaiK5vXkZ"
   },
   "source": [
    "## Save and Load trained model"
   ]
  },
  {
   "cell_type": "code",
   "execution_count": 21,
   "metadata": {
    "colab": {
     "base_uri": "https://localhost:8080/"
    },
    "executionInfo": {
     "elapsed": 969,
     "status": "ok",
     "timestamp": 1685466832918,
     "user": {
      "displayName": "Lim Hong Zhi",
      "userId": "11640420770762384560"
     },
     "user_tz": -480
    },
    "id": "43WENoGiq1DL",
    "outputId": "44d0d09f-b88b-49d0-891f-c273150b4192",
    "ExecuteTime": {
     "end_time": "2023-06-04T07:54:33.598809300Z",
     "start_time": "2023-06-04T07:54:33.506672400Z"
    }
   },
   "outputs": [
    {
     "data": {
      "text/plain": "['./models/svm_model.sav']"
     },
     "execution_count": 21,
     "metadata": {},
     "output_type": "execute_result"
    }
   ],
   "source": [
    "joblib.dump(svm_classifier, dump_path)"
   ]
  },
  {
   "cell_type": "code",
   "execution_count": 22,
   "metadata": {
    "id": "VW0Umz4ot3Vq",
    "executionInfo": {
     "status": "ok",
     "timestamp": 1685466832918,
     "user_tz": -480,
     "elapsed": 13,
     "user": {
      "displayName": "Lim Hong Zhi",
      "userId": "11640420770762384560"
     }
    },
    "ExecuteTime": {
     "end_time": "2023-06-04T07:54:33.599823200Z",
     "start_time": "2023-06-04T07:54:33.523735900Z"
    }
   },
   "outputs": [],
   "source": [
    "loaded_model = joblib.load(load_dump_path)"
   ]
  },
  {
   "cell_type": "code",
   "execution_count": 23,
   "metadata": {
    "colab": {
     "base_uri": "https://localhost:8080/"
    },
    "executionInfo": {
     "elapsed": 14,
     "status": "ok",
     "timestamp": 1685466832919,
     "user": {
      "displayName": "Lim Hong Zhi",
      "userId": "11640420770762384560"
     },
     "user_tz": -480
    },
    "id": "p2Bp2xwfuVH-",
    "outputId": "247026ab-1c30-4113-e0ce-b7e55760a304",
    "ExecuteTime": {
     "end_time": "2023-06-04T07:54:33.600822600Z",
     "start_time": "2023-06-04T07:54:33.542346700Z"
    }
   },
   "outputs": [
    {
     "name": "stdout",
     "output_type": "stream",
     "text": [
      "['atis_aircraft']\n"
     ]
    }
   ],
   "source": [
    "infer_loaded = \"What is the flight fare\"\n",
    "vector_loaded = [vectorise(tokenise_sentence(infer))]\n",
    "pred_loaded = loaded_model.predict(vector_loaded)\n",
    "print(label_encoder.inverse_transform(pred_loaded))"
   ]
  },
  {
   "cell_type": "code",
   "execution_count": 24,
   "metadata": {
    "colab": {
     "base_uri": "https://localhost:8080/"
    },
    "executionInfo": {
     "elapsed": 12,
     "status": "ok",
     "timestamp": 1685466832919,
     "user": {
      "displayName": "Lim Hong Zhi",
      "userId": "11640420770762384560"
     },
     "user_tz": -480
    },
    "id": "QA7LCc6xn60G",
    "outputId": "f4920b2c-3446-44a8-991b-6b9f7f757859",
    "ExecuteTime": {
     "end_time": "2023-06-04T07:54:33.602821200Z",
     "start_time": "2023-06-04T07:54:33.575947600Z"
    }
   },
   "outputs": [
    {
     "name": "stdout",
     "output_type": "stream",
     "text": [
      "[[0.01396136 0.65417445 0.01729435 0.09019494 0.11698472 0.01015042\n",
      "  0.01621939 0.08102037]]\n"
     ]
    }
   ],
   "source": [
    "print(loaded_model.predict_proba(vector_loaded))"
   ]
  },
  {
   "cell_type": "code",
   "execution_count": 25,
   "metadata": {
    "colab": {
     "base_uri": "https://localhost:8080/"
    },
    "executionInfo": {
     "elapsed": 11,
     "status": "ok",
     "timestamp": 1685466832920,
     "user": {
      "displayName": "Lim Hong Zhi",
      "userId": "11640420770762384560"
     },
     "user_tz": -480
    },
    "id": "MSr0eFuWoBQB",
    "outputId": "cc4e2390-a698-40f1-eab9-ff76bc060204",
    "ExecuteTime": {
     "end_time": "2023-06-04T07:54:33.747411500Z",
     "start_time": "2023-06-04T07:54:33.589297600Z"
    }
   },
   "outputs": [
    {
     "data": {
      "text/plain": "1"
     },
     "execution_count": 25,
     "metadata": {},
     "output_type": "execute_result"
    }
   ],
   "source": [
    "np.argmax(loaded_model.predict_proba(vector_loaded))"
   ]
  },
  {
   "cell_type": "code",
   "execution_count": 26,
   "metadata": {
    "colab": {
     "base_uri": "https://localhost:8080/"
    },
    "executionInfo": {
     "elapsed": 8,
     "status": "ok",
     "timestamp": 1685466832920,
     "user": {
      "displayName": "Lim Hong Zhi",
      "userId": "11640420770762384560"
     },
     "user_tz": -480
    },
    "id": "2QWjbq-wp_NN",
    "outputId": "eddc2a3c-d9fe-4228-99c9-2cce83188b56",
    "ExecuteTime": {
     "end_time": "2023-06-04T07:54:33.759021800Z",
     "start_time": "2023-06-04T07:54:33.602821200Z"
    }
   },
   "outputs": [
    {
     "data": {
      "text/plain": "0.6541744520882222"
     },
     "execution_count": 26,
     "metadata": {},
     "output_type": "execute_result"
    }
   ],
   "source": [
    "pred_probabilities = loaded_model.predict_proba(vector_loaded).flatten()\n",
    "max_index = np.argmax(pred_probabilities)\n",
    "pred_prob = pred_probabilities[max_index]\n",
    "pred_prob\n",
    "# pred_probabilities"
   ]
  },
  {
   "cell_type": "code",
   "execution_count": 27,
   "metadata": {
    "id": "TB6W4x3Gih0p",
    "outputId": "47c184cb-6c27-4cca-fb0e-635c0ffb9db5",
    "ExecuteTime": {
     "end_time": "2023-06-04T07:54:33.761046700Z",
     "start_time": "2023-06-04T07:54:33.617939300Z"
    }
   },
   "outputs": [
    {
     "data": {
      "text/plain": "{5, 7}"
     },
     "execution_count": 27,
     "metadata": {},
     "output_type": "execute_result"
    }
   ],
   "source": [
    "set(y) - set(y_test_pred)"
   ]
  }
 ],
 "metadata": {
  "colab": {
   "provenance": []
  },
  "kernelspec": {
   "display_name": "nlp-env",
   "language": "python",
   "name": "nlp-env"
  },
  "language_info": {
   "codemirror_mode": {
    "name": "ipython",
    "version": 3
   },
   "file_extension": ".py",
   "mimetype": "text/x-python",
   "name": "python",
   "nbconvert_exporter": "python",
   "pygments_lexer": "ipython3",
   "version": "3.9.16"
  }
 },
 "nbformat": 4,
 "nbformat_minor": 0
}
