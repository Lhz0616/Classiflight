{
 "cells": [
  {
   "cell_type": "markdown",
   "metadata": {
    "id": "hdh7YnhUwLEH"
   },
   "source": [
    "# Text classification using `Word2Vec` and `sklearn.svm.SVC`\n",
    "\n",
    "Source: \n",
    "* [Word Embedding (medium)](https://medium.com/intelligentmachines/word-embedding-and-one-hot-encoding-ad17b4bbe111)\n",
    "* [reference code](https://colab.research.google.com/github/PradipNichite/Youtube-Tutorials/blob/main/Yotutube_WordVectors.ipynb#scrollTo=mpkwvwH5g66R)\n",
    "* https://radimrehurek.com/gensim/auto_examples/tutorials/run_word2vec.html\n",
    "* https://radimrehurek.com/gensim/models/word2vec.html\n",
    "* https://analyticsindiamag.com/word2vec-vs-glove-a-comparative-guide-to-word-embedding-techniques/"
   ]
  },
  {
   "cell_type": "code",
   "execution_count": 7,
   "metadata": {
    "colab": {
     "base_uri": "https://localhost:8080/"
    },
    "id": "dnCB6fIfih0e",
    "executionInfo": {
     "status": "ok",
     "timestamp": 1685466614107,
     "user_tz": -480,
     "elapsed": 61867,
     "user": {
      "displayName": "Lim Hong Zhi",
      "userId": "11640420770762384560"
     }
    },
    "outputId": "fe0f7d6a-6e49-47a9-aafc-9ef861c653a7",
    "ExecuteTime": {
     "end_time": "2023-06-04T05:22:37.412085400Z",
     "start_time": "2023-06-04T05:22:34.718096800Z"
    }
   },
   "outputs": [
    {
     "name": "stderr",
     "output_type": "stream",
     "text": [
      "[nltk_data] Downloading package stopwords to\n",
      "[nltk_data]     C:\\Users\\user\\AppData\\Roaming\\nltk_data...\n",
      "[nltk_data]   Package stopwords is already up-to-date!\n"
     ]
    }
   ],
   "source": [
    "try:\n",
    "    from google.colab import drive\n",
    "    drive.mount('/content/gdrive/')\n",
    "\n",
    "    PROJECT_PATH = \"/content/gdrive/MyDrive/WID3002 Natural Language Processing\"\n",
    "\n",
    "    import sys\n",
    "    sys.path.append(f\"{PROJECT_PATH}\")\n",
    "    \n",
    "    !pip install --upgrade gensim -q\n",
    "    !pip install wordcloud\n",
    "except:\n",
    "    PROJECT_PATH = \".\"\n",
    "\n",
    "\n",
    "data_path = f\"{PROJECT_PATH}/data/atis_intents_train.csv\"\n",
    "test_file = f\"{PROJECT_PATH}/data/atis_intents_test.csv\"\n",
    "dump_path = f\"{PROJECT_PATH}/streamlit/models/svm_model.sav\"\n",
    "load_dump_path = f\"{PROJECT_PATH}/streamlit/models/svm_model.sav\"\n",
    "    \n",
    "    \n",
    "import gensim\n",
    "import pickle\n",
    "import matplotlib.pyplot as plt\n",
    "from wordcloud import WordCloud\n",
    "from tqdm import *\n",
    "\n",
    "from sklearn.preprocessing import LabelEncoder\n",
    "from sklearn.model_selection import train_test_split\n",
    "from sklearn.svm import SVC\n",
    "\n",
    "from utils import *\n",
    "\n",
    "import joblib\n",
    "\n",
    "import nltk\n",
    "nltk.download('stopwords')\n",
    "from nltk.corpus import stopwords\n",
    "stop_words = stopwords.words('english')"
   ]
  },
  {
   "cell_type": "code",
   "execution_count": 4,
   "metadata": {
    "id": "d1uH9iAKbmEs",
    "executionInfo": {
     "status": "ok",
     "timestamp": 1685466623223,
     "user_tz": -480,
     "elapsed": 3,
     "user": {
      "displayName": "Lim Hong Zhi",
      "userId": "11640420770762384560"
     }
    },
    "ExecuteTime": {
     "end_time": "2023-06-01T07:30:41.928273800Z",
     "start_time": "2023-06-01T07:30:41.913278100Z"
    }
   },
   "outputs": [],
   "source": [
    "np.random.seed(42)"
   ]
  },
  {
   "cell_type": "code",
   "execution_count": 2,
   "metadata": {
    "colab": {
     "base_uri": "https://localhost:8080/"
    },
    "executionInfo": {
     "elapsed": 2,
     "status": "ok",
     "timestamp": 1685466626315,
     "user": {
      "displayName": "Lim Hong Zhi",
      "userId": "11640420770762384560"
     },
     "user_tz": -480
    },
    "id": "Y_YUe5PKbw3M",
    "outputId": "369dbe21-e53a-4539-8538-4c5cf1784962",
    "ExecuteTime": {
     "end_time": "2023-06-04T05:16:25.254260700Z",
     "start_time": "2023-06-04T05:16:24.853033600Z"
    }
   },
   "outputs": [
    {
     "name": "stdout",
     "output_type": "stream",
     "text": [
      "fasttext-wiki-news-subwords-300\n",
      "conceptnet-numberbatch-17-06-300\n",
      "word2vec-ruscorpora-300\n",
      "word2vec-google-news-300\n",
      "glove-wiki-gigaword-50\n",
      "glove-wiki-gigaword-100\n",
      "glove-wiki-gigaword-200\n",
      "glove-wiki-gigaword-300\n",
      "glove-twitter-25\n",
      "glove-twitter-50\n",
      "glove-twitter-100\n",
      "glove-twitter-200\n",
      "__testing_word2vec-matrix-synopsis\n"
     ]
    }
   ],
   "source": [
    "import gensim.downloader as api\n",
    "[print(x) for x in list(gensim.downloader.info()['models'].keys())];"
   ]
  },
  {
   "cell_type": "code",
   "execution_count": 20,
   "outputs": [
    {
     "data": {
      "text/plain": "'assets/classiflight.png'"
     },
     "execution_count": 20,
     "metadata": {},
     "output_type": "execute_result"
    }
   ],
   "source": [
    "from pathlib import Path\n",
    "import matplotlib.pyplot as plt\n",
    "import matplotlib.image as pltimg\n",
    "\n",
    "image = Path('.').joinpath(\"assets\").joinpath(\"classiflight.png\").as_posix()\n",
    "image"
   ],
   "metadata": {
    "collapsed": false,
    "ExecuteTime": {
     "end_time": "2023-06-04T06:50:41.761488400Z",
     "start_time": "2023-06-04T06:50:41.735488200Z"
    }
   }
  },
  {
   "cell_type": "markdown",
   "metadata": {
    "id": "4jR6H2Yiu-0n"
   },
   "source": [
    "## Loading train set and data cleaning"
   ]
  },
  {
   "cell_type": "code",
   "execution_count": 6,
   "metadata": {
    "id": "6jy7dyAwiXyq",
    "executionInfo": {
     "status": "ok",
     "timestamp": 1685466631588,
     "user_tz": -480,
     "elapsed": 1927,
     "user": {
      "displayName": "Lim Hong Zhi",
      "userId": "11640420770762384560"
     }
    },
    "ExecuteTime": {
     "end_time": "2023-06-01T07:30:44.080473400Z",
     "start_time": "2023-06-01T07:30:44.029927400Z"
    }
   },
   "outputs": [],
   "source": [
    "df = load_data(data_path)"
   ]
  },
  {
   "cell_type": "code",
   "execution_count": 9,
   "metadata": {
    "id": "qXH9j8i3kx_7",
    "executionInfo": {
     "status": "ok",
     "timestamp": 1685466631588,
     "user_tz": -480,
     "elapsed": 4,
     "user": {
      "displayName": "Lim Hong Zhi",
      "userId": "11640420770762384560"
     }
    },
    "ExecuteTime": {
     "end_time": "2023-06-01T07:31:52.769999600Z",
     "start_time": "2023-06-01T07:31:52.746001400Z"
    }
   },
   "outputs": [],
   "source": [
    "label_encoder = LabelEncoder()\n",
    "df['category_encoded'] = label_encoder.fit_transform(df['category'])\n",
    "pkl_file = open('models/classes.pkl', 'wb')\n",
    "pickle.dump(label_encoder, pkl_file)\n",
    "pkl_file.close()"
   ]
  },
  {
   "cell_type": "code",
   "execution_count": 7,
   "metadata": {
    "colab": {
     "base_uri": "https://localhost:8080/",
     "height": 853
    },
    "executionInfo": {
     "elapsed": 2173,
     "status": "ok",
     "timestamp": 1685466633758,
     "user": {
      "displayName": "Lim Hong Zhi",
      "userId": "11640420770762384560"
     },
     "user_tz": -480
    },
    "id": "mqDgoEV7kPQJ",
    "outputId": "44cb0d89-ad59-488d-dd91-aa4cbdb2288c",
    "ExecuteTime": {
     "end_time": "2023-06-01T07:06:32.349148300Z",
     "start_time": "2023-06-01T07:06:30.818018500Z"
    }
   },
   "outputs": [
    {
     "name": "stdout",
     "output_type": "stream",
     "text": [
      "!\"#$%&'()*+,-./:;<=>?@[\\]^_`{|}~\n"
     ]
    },
    {
     "data": {
      "text/plain": "<Figure size 800x800 with 1 Axes>",
      "image/png": "[encoded data removed]"
     },
     "metadata": {},
     "output_type": "display_data"
    }
   ],
   "source": [
    "word_cloud = WordCloud(width=800, height=800, background_color='black', min_font_size=10).generate(\" \".join(stop_words))\n",
    "plt.figure(figsize=(8, 8), facecolor=None)\n",
    "plt.imshow(word_cloud)\n",
    "plt.axis(\"off\")\n",
    "plt.tight_layout(pad=0)\n",
    "\n",
    "punctuations = string.punctuation\n",
    "print(punctuations)"
   ]
  },
  {
   "cell_type": "code",
   "execution_count": 8,
   "metadata": {
    "id": "3AqY9aBgikGF",
    "executionInfo": {
     "status": "ok",
     "timestamp": 1685466686853,
     "user_tz": -480,
     "elapsed": 41840,
     "user": {
      "displayName": "Lim Hong Zhi",
      "userId": "11640420770762384560"
     }
    },
    "ExecuteTime": {
     "end_time": "2023-06-01T07:07:07.903217200Z",
     "start_time": "2023-06-01T07:06:32.351146700Z"
    }
   },
   "outputs": [],
   "source": [
    "df['tokens'] = df['question'].apply(tokenise_sentence)"
   ]
  },
  {
   "cell_type": "code",
   "execution_count": 9,
   "metadata": {
    "id": "XjL4tvRqlDcs",
    "executionInfo": {
     "status": "ok",
     "timestamp": 1685466686854,
     "user_tz": -480,
     "elapsed": 9,
     "user": {
      "displayName": "Lim Hong Zhi",
      "userId": "11640420770762384560"
     }
    },
    "ExecuteTime": {
     "end_time": "2023-06-01T07:07:08.044288300Z",
     "start_time": "2023-06-01T07:07:07.900217500Z"
    }
   },
   "outputs": [],
   "source": [
    "df['vec'] = df['tokens'].apply(vectorise)"
   ]
  },
  {
   "cell_type": "code",
   "execution_count": 10,
   "metadata": {
    "id": "FIhGrG0TmB8x",
    "executionInfo": {
     "status": "ok",
     "timestamp": 1685466686855,
     "user_tz": -480,
     "elapsed": 8,
     "user": {
      "displayName": "Lim Hong Zhi",
      "userId": "11640420770762384560"
     }
    },
    "ExecuteTime": {
     "end_time": "2023-06-01T07:07:08.055301700Z",
     "start_time": "2023-06-01T07:07:08.040782400Z"
    }
   },
   "outputs": [],
   "source": [
    "# Preparing dataset\n",
    "X = df['vec'].to_list()\n",
    "y = df['category_encoded'].to_list()"
   ]
  },
  {
   "cell_type": "code",
   "execution_count": 11,
   "metadata": {
    "id": "SfoU9QLFlgxY",
    "executionInfo": {
     "status": "ok",
     "timestamp": 1685466686855,
     "user_tz": -480,
     "elapsed": 8,
     "user": {
      "displayName": "Lim Hong Zhi",
      "userId": "11640420770762384560"
     }
    },
    "ExecuteTime": {
     "end_time": "2023-06-01T07:07:08.108297300Z",
     "start_time": "2023-06-01T07:07:08.057306400Z"
    }
   },
   "outputs": [],
   "source": [
    "X_train, X_test, y_train, y_test = train_test_split(X, y, test_size=0.2, random_state=42, stratify=y)"
   ]
  },
  {
   "cell_type": "code",
   "execution_count": 12,
   "metadata": {
    "id": "ijl74tuAmK06",
    "executionInfo": {
     "status": "ok",
     "timestamp": 1685466686855,
     "user_tz": -480,
     "elapsed": 7,
     "user": {
      "displayName": "Lim Hong Zhi",
      "userId": "11640420770762384560"
     }
    },
    "ExecuteTime": {
     "end_time": "2023-06-01T07:07:08.109298400Z",
     "start_time": "2023-06-01T07:07:08.073303100Z"
    }
   },
   "outputs": [],
   "source": [
    "svm_classifier = SVC(kernel='linear', probability=True)"
   ]
  },
  {
   "cell_type": "code",
   "execution_count": 13,
   "metadata": {
    "colab": {
     "base_uri": "https://localhost:8080/"
    },
    "executionInfo": {
     "elapsed": 135389,
     "status": "ok",
     "timestamp": 1685466822237,
     "user": {
      "displayName": "Lim Hong Zhi",
      "userId": "11640420770762384560"
     },
     "user_tz": -480
    },
    "id": "_oWYcUm9oh2n",
    "outputId": "fd1c1d07-5c70-4fa3-d340-159fab382eb1",
    "ExecuteTime": {
     "end_time": "2023-06-01T07:09:09.928752300Z",
     "start_time": "2023-06-01T07:07:08.090304500Z"
    }
   },
   "outputs": [
    {
     "name": "stderr",
     "output_type": "stream",
     "text": [
      "100%|██████████| 100/100 [02:01<00:00,  1.22s/it]\n"
     ]
    }
   ],
   "source": [
    "num_epochs = 100\n",
    "\n",
    "for epoch in tqdm(range(num_epochs)): \n",
    "  svm_classifier.fit(X_train, y_train)"
   ]
  },
  {
   "cell_type": "code",
   "execution_count": 14,
   "metadata": {
    "id": "KWlu9xGnmPk-",
    "executionInfo": {
     "status": "ok",
     "timestamp": 1685466822237,
     "user_tz": -480,
     "elapsed": 9,
     "user": {
      "displayName": "Lim Hong Zhi",
      "userId": "11640420770762384560"
     }
    },
    "ExecuteTime": {
     "end_time": "2023-06-01T07:09:10.035310700Z",
     "start_time": "2023-06-01T07:09:09.931751100Z"
    }
   },
   "outputs": [],
   "source": [
    "# Predict the labels for test data\n",
    "y_pred = svm_classifier.predict(X_test)"
   ]
  },
  {
   "cell_type": "code",
   "execution_count": 15,
   "metadata": {
    "colab": {
     "base_uri": "https://localhost:8080/"
    },
    "executionInfo": {
     "elapsed": 9,
     "status": "ok",
     "timestamp": 1685466822238,
     "user": {
      "displayName": "Lim Hong Zhi",
      "userId": "11640420770762384560"
     },
     "user_tz": -480
    },
    "id": "lGh-TyCTnfgt",
    "outputId": "6de2da23-2889-4842-ce08-bc6aa36df776",
    "ExecuteTime": {
     "end_time": "2023-06-01T07:09:10.069852200Z",
     "start_time": "2023-06-01T07:09:09.982319500Z"
    }
   },
   "outputs": [
    {
     "name": "stdout",
     "output_type": "stream",
     "text": [
      "SVM Accuracy: 0.9352941176470588\n",
      "SVM Precision: 0.9144378493478839\n",
      "SVM Recall: 0.9352941176470588\n"
     ]
    },
    {
     "name": "stderr",
     "output_type": "stream",
     "text": [
      "C:\\Users\\user\\miniconda3\\envs\\nlp-env\\lib\\site-packages\\sklearn\\metrics\\_classification.py:1344: UndefinedMetricWarning: Precision is ill-defined and being set to 0.0 in labels with no predicted samples. Use `zero_division` parameter to control this behavior.\n",
      "  _warn_prf(average, modifier, msg_start, len(result))\n"
     ]
    }
   ],
   "source": [
    "from sklearn.metrics import accuracy_score, precision_score, recall_score\n",
    "# # Evaluate the accuracy of the classifier\n",
    "print(\"SVM Accuracy:\", accuracy_score(y_test, y_pred))\n",
    "print(\"SVM Precision:\", precision_score(y_test, y_pred, average='weighted'))\n",
    "print(\"SVM Recall:\", recall_score(y_test, y_pred, average='weighted'))"
   ]
  },
  {
   "cell_type": "markdown",
   "metadata": {
    "id": "6NKvHmeguzX9"
   },
   "source": [
    "## Inferencing"
   ]
  },
  {
   "cell_type": "code",
   "execution_count": 16,
   "metadata": {
    "id": "Iqgdprd0pYuU",
    "executionInfo": {
     "status": "ok",
     "timestamp": 1685466822238,
     "user_tz": -480,
     "elapsed": 6,
     "user": {
      "displayName": "Lim Hong Zhi",
      "userId": "11640420770762384560"
     }
    },
    "ExecuteTime": {
     "end_time": "2023-06-01T07:09:10.070852900Z",
     "start_time": "2023-06-01T07:09:10.010314400Z"
    }
   },
   "outputs": [],
   "source": [
    "infer = \"list type of aircraft for all flights from charlotte\"\n",
    "vector = [vectorise(tokenise_sentence(infer))]"
   ]
  },
  {
   "cell_type": "code",
   "execution_count": 17,
   "metadata": {
    "colab": {
     "base_uri": "https://localhost:8080/"
    },
    "executionInfo": {
     "elapsed": 6,
     "status": "ok",
     "timestamp": 1685466822238,
     "user": {
      "displayName": "Lim Hong Zhi",
      "userId": "11640420770762384560"
     },
     "user_tz": -480
    },
    "id": "hAFVl-G7qvXJ",
    "outputId": "f64d27b3-1dea-4fd7-8e8a-e037e777bce0",
    "ExecuteTime": {
     "end_time": "2023-06-01T07:09:10.073858400Z",
     "start_time": "2023-06-01T07:09:10.045349300Z"
    }
   },
   "outputs": [
    {
     "name": "stdout",
     "output_type": "stream",
     "text": [
      "['atis_aircraft']\n"
     ]
    }
   ],
   "source": [
    "pred = svm_classifier.predict(vector)\n",
    "print(label_encoder.inverse_transform(pred))"
   ]
  },
  {
   "cell_type": "markdown",
   "metadata": {
    "id": "OHe_2cLm0PQ4"
   },
   "source": [
    "### Testing out the model with test data"
   ]
  },
  {
   "cell_type": "code",
   "execution_count": 18,
   "metadata": {
    "id": "qxOoxOVozjyb",
    "executionInfo": {
     "status": "ok",
     "timestamp": 1685466830917,
     "user_tz": -480,
     "elapsed": 8683,
     "user": {
      "displayName": "Lim Hong Zhi",
      "userId": "11640420770762384560"
     }
    },
    "ExecuteTime": {
     "end_time": "2023-06-01T07:09:15.799602900Z",
     "start_time": "2023-06-01T07:09:10.056840100Z"
    }
   },
   "outputs": [],
   "source": [
    "test_df = pd.read_csv(test_file, header=None)\n",
    "test_df.columns = ['category', 'question']\n",
    "test_df = test_df[~test_df.duplicated(subset='question', keep=False)]\n",
    "\n",
    "test_df['tokens'] = test_df['question'].apply(tokenise_sentence)\n",
    "test_df['vec'] = test_df['tokens'].apply(vectorise)"
   ]
  },
  {
   "cell_type": "code",
   "execution_count": 19,
   "metadata": {
    "id": "SdtR_ZkM0EPC",
    "executionInfo": {
     "status": "ok",
     "timestamp": 1685466830917,
     "user_tz": -480,
     "elapsed": 12,
     "user": {
      "displayName": "Lim Hong Zhi",
      "userId": "11640420770762384560"
     }
    },
    "ExecuteTime": {
     "end_time": "2023-06-01T07:09:15.817605400Z",
     "start_time": "2023-06-01T07:09:15.802600700Z"
    }
   },
   "outputs": [],
   "source": [
    "X = df['vec'].to_list()\n",
    "y = df['category_encoded'].to_list()"
   ]
  },
  {
   "cell_type": "code",
   "execution_count": 20,
   "metadata": {
    "id": "eD6II6Zq0I35",
    "executionInfo": {
     "status": "ok",
     "timestamp": 1685466831951,
     "user_tz": -480,
     "elapsed": 1045,
     "user": {
      "displayName": "Lim Hong Zhi",
      "userId": "11640420770762384560"
     }
    },
    "ExecuteTime": {
     "end_time": "2023-06-01T07:09:16.007401300Z",
     "start_time": "2023-06-01T07:09:15.820599500Z"
    }
   },
   "outputs": [],
   "source": [
    "y_test_pred = svm_classifier.predict(X)"
   ]
  },
  {
   "cell_type": "code",
   "execution_count": 21,
   "metadata": {
    "colab": {
     "base_uri": "https://localhost:8080/"
    },
    "executionInfo": {
     "elapsed": 4,
     "status": "ok",
     "timestamp": 1685466831951,
     "user": {
      "displayName": "Lim Hong Zhi",
      "userId": "11640420770762384560"
     },
     "user_tz": -480
    },
    "id": "2QQEKcPv0YtP",
    "outputId": "5ba083a5-4a3a-41ae-d4f0-4ff23b81a746",
    "ExecuteTime": {
     "end_time": "2023-06-01T07:09:16.028398700Z",
     "start_time": "2023-06-01T07:09:15.996413200Z"
    }
   },
   "outputs": [
    {
     "name": "stdout",
     "output_type": "stream",
     "text": [
      "SVM Accuracy: 0.9265882352941176\n",
      "SVM Precision: 0.9044242222579016\n",
      "SVM Recall: 0.9265882352941176\n"
     ]
    },
    {
     "name": "stderr",
     "output_type": "stream",
     "text": [
      "C:\\Users\\user\\miniconda3\\envs\\nlp-env\\lib\\site-packages\\sklearn\\metrics\\_classification.py:1344: UndefinedMetricWarning: Precision is ill-defined and being set to 0.0 in labels with no predicted samples. Use `zero_division` parameter to control this behavior.\n",
      "  _warn_prf(average, modifier, msg_start, len(result))\n"
     ]
    }
   ],
   "source": [
    "from sklearn.metrics import accuracy_score, precision_score, recall_score\n",
    "# # Evaluate the accuracy of the classifier\n",
    "print(\"SVM Accuracy:\", accuracy_score(y, y_test_pred))\n",
    "print(\"SVM Precision:\", precision_score(y, y_test_pred, average='weighted'))\n",
    "print(\"SVM Recall:\", recall_score(y, y_test_pred, average='weighted'))"
   ]
  },
  {
   "cell_type": "markdown",
   "metadata": {
    "id": "z4fDaiK5vXkZ"
   },
   "source": [
    "## Save and Load trained model"
   ]
  },
  {
   "cell_type": "code",
   "execution_count": 22,
   "metadata": {
    "colab": {
     "base_uri": "https://localhost:8080/"
    },
    "executionInfo": {
     "elapsed": 969,
     "status": "ok",
     "timestamp": 1685466832918,
     "user": {
      "displayName": "Lim Hong Zhi",
      "userId": "11640420770762384560"
     },
     "user_tz": -480
    },
    "id": "43WENoGiq1DL",
    "outputId": "44d0d09f-b88b-49d0-891f-c273150b4192",
    "ExecuteTime": {
     "end_time": "2023-06-01T07:09:16.119943500Z",
     "start_time": "2023-06-01T07:09:16.026401300Z"
    }
   },
   "outputs": [
    {
     "data": {
      "text/plain": "['./streamlit/models/svm_model.sav']"
     },
     "execution_count": 22,
     "metadata": {},
     "output_type": "execute_result"
    }
   ],
   "source": [
    "joblib.dump(svm_classifier, dump_path)"
   ]
  },
  {
   "cell_type": "code",
   "execution_count": 23,
   "metadata": {
    "id": "VW0Umz4ot3Vq",
    "executionInfo": {
     "status": "ok",
     "timestamp": 1685466832918,
     "user_tz": -480,
     "elapsed": 13,
     "user": {
      "displayName": "Lim Hong Zhi",
      "userId": "11640420770762384560"
     }
    },
    "ExecuteTime": {
     "end_time": "2023-06-01T07:09:16.120940500Z",
     "start_time": "2023-06-01T07:09:16.041415100Z"
    }
   },
   "outputs": [],
   "source": [
    "loaded_model = joblib.load(load_dump_path)"
   ]
  },
  {
   "cell_type": "code",
   "execution_count": 24,
   "metadata": {
    "colab": {
     "base_uri": "https://localhost:8080/"
    },
    "executionInfo": {
     "elapsed": 14,
     "status": "ok",
     "timestamp": 1685466832919,
     "user": {
      "displayName": "Lim Hong Zhi",
      "userId": "11640420770762384560"
     },
     "user_tz": -480
    },
    "id": "p2Bp2xwfuVH-",
    "outputId": "247026ab-1c30-4113-e0ce-b7e55760a304",
    "ExecuteTime": {
     "end_time": "2023-06-01T07:09:16.122941500Z",
     "start_time": "2023-06-01T07:09:16.071945500Z"
    }
   },
   "outputs": [
    {
     "name": "stdout",
     "output_type": "stream",
     "text": [
      "['atis_aircraft']\n"
     ]
    }
   ],
   "source": [
    "infer_loaded = \"what airline is hp\"\n",
    "vector_loaded = [vectorise(tokenise_sentence(infer))]\n",
    "pred_loaded = loaded_model.predict(vector_loaded)\n",
    "print(label_encoder.inverse_transform(pred_loaded))"
   ]
  },
  {
   "cell_type": "code",
   "execution_count": 25,
   "metadata": {
    "colab": {
     "base_uri": "https://localhost:8080/"
    },
    "executionInfo": {
     "elapsed": 12,
     "status": "ok",
     "timestamp": 1685466832919,
     "user": {
      "displayName": "Lim Hong Zhi",
      "userId": "11640420770762384560"
     },
     "user_tz": -480
    },
    "id": "QA7LCc6xn60G",
    "outputId": "f4920b2c-3446-44a8-991b-6b9f7f757859",
    "ExecuteTime": {
     "end_time": "2023-06-01T07:09:16.123952300Z",
     "start_time": "2023-06-01T07:09:16.106946400Z"
    }
   },
   "outputs": [
    {
     "name": "stdout",
     "output_type": "stream",
     "text": [
      "[[0.01396136 0.65417445 0.01729435 0.09019494 0.11698472 0.01015042\n",
      "  0.01621939 0.08102037]]\n"
     ]
    }
   ],
   "source": [
    "print(loaded_model.predict_proba(vector_loaded))"
   ]
  },
  {
   "cell_type": "code",
   "execution_count": 26,
   "metadata": {
    "colab": {
     "base_uri": "https://localhost:8080/"
    },
    "executionInfo": {
     "elapsed": 11,
     "status": "ok",
     "timestamp": 1685466832920,
     "user": {
      "displayName": "Lim Hong Zhi",
      "userId": "11640420770762384560"
     },
     "user_tz": -480
    },
    "id": "MSr0eFuWoBQB",
    "outputId": "cc4e2390-a698-40f1-eab9-ff76bc060204",
    "ExecuteTime": {
     "end_time": "2023-06-01T07:09:16.242355300Z",
     "start_time": "2023-06-01T07:09:16.120940500Z"
    }
   },
   "outputs": [
    {
     "data": {
      "text/plain": "1"
     },
     "execution_count": 26,
     "metadata": {},
     "output_type": "execute_result"
    }
   ],
   "source": [
    "np.argmax(loaded_model.predict_proba(vector_loaded))"
   ]
  },
  {
   "cell_type": "code",
   "execution_count": 27,
   "metadata": {
    "colab": {
     "base_uri": "https://localhost:8080/"
    },
    "executionInfo": {
     "elapsed": 8,
     "status": "ok",
     "timestamp": 1685466832920,
     "user": {
      "displayName": "Lim Hong Zhi",
      "userId": "11640420770762384560"
     },
     "user_tz": -480
    },
    "id": "2QWjbq-wp_NN",
    "outputId": "eddc2a3c-d9fe-4228-99c9-2cce83188b56",
    "ExecuteTime": {
     "end_time": "2023-06-01T07:09:16.244355200Z",
     "start_time": "2023-06-01T07:09:16.136942300Z"
    }
   },
   "outputs": [
    {
     "data": {
      "text/plain": "0.6541744520882222"
     },
     "execution_count": 27,
     "metadata": {},
     "output_type": "execute_result"
    }
   ],
   "source": [
    "pred_probabilities = loaded_model.predict_proba(vector_loaded).flatten()\n",
    "max_index = np.argmax(pred_probabilities)\n",
    "pred_prob = pred_probabilities[max_index]\n",
    "pred_prob\n",
    "# pred_probabilities"
   ]
  },
  {
   "cell_type": "code",
   "execution_count": null,
   "metadata": {
    "id": "TB6W4x3Gih0p",
    "outputId": "47c184cb-6c27-4cca-fb0e-635c0ffb9db5"
   },
   "outputs": [
    {
     "data": {
      "text/plain": [
       "{5, 7}"
      ]
     },
     "execution_count": 31,
     "metadata": {},
     "output_type": "execute_result"
    }
   ],
   "source": [
    "set(y) - set(y_test_pred)"
   ]
  }
 ],
 "metadata": {
  "colab": {
   "provenance": []
  },
  "kernelspec": {
   "display_name": "nlp-env",
   "language": "python",
   "name": "nlp-env"
  },
  "language_info": {
   "codemirror_mode": {
    "name": "ipython",
    "version": 3
   },
   "file_extension": ".py",
   "mimetype": "text/x-python",
   "name": "python",
   "nbconvert_exporter": "python",
   "pygments_lexer": "ipython3",
   "version": "3.9.16"
  }
 },
 "nbformat": 4,
 "nbformat_minor": 0
}
